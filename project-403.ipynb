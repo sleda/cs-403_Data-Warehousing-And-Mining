{
 "cells": [
  {
   "cell_type": "code",
   "execution_count": 15,
   "metadata": {},
   "outputs": [],
   "source": [
    "import pandas as pd\n",
    "import numpy as np\n",
    "from sklearn.preprocessing import StandardScaler\n",
    "from sklearn.metrics import accuracy_score, precision_score, recall_score, f1_score, confusion_matrix\n",
    "from sklearn.model_selection import train_test_split\n",
    "from sklearn.neighbors import KNeighborsClassifier\n",
    "from sklearn.neural_network import MLPClassifier\n",
    "from sklearn.naive_bayes import GaussianNB"
   ]
  },
  {
   "cell_type": "code",
   "execution_count": 16,
   "metadata": {},
   "outputs": [],
   "source": [
    "dataframe = pd.read_csv('./dataset/processed_train_combined.csv')"
   ]
  },
  {
   "cell_type": "code",
   "execution_count": 17,
   "metadata": {},
   "outputs": [
    {
     "data": {
      "text/html": [
       "<div>\n",
       "<style scoped>\n",
       "    .dataframe tbody tr th:only-of-type {\n",
       "        vertical-align: middle;\n",
       "    }\n",
       "\n",
       "    .dataframe tbody tr th {\n",
       "        vertical-align: top;\n",
       "    }\n",
       "\n",
       "    .dataframe thead th {\n",
       "        text-align: right;\n",
       "    }\n",
       "</style>\n",
       "<table border=\"1\" class=\"dataframe\">\n",
       "  <thead>\n",
       "    <tr style=\"text-align: right;\">\n",
       "      <th></th>\n",
       "      <th>Relation</th>\n",
       "      <th>Target</th>\n",
       "      <th>Relatum</th>\n",
       "      <th>Attribute</th>\n",
       "      <th>Entity</th>\n",
       "      <th>Numeric Value</th>\n",
       "    </tr>\n",
       "  </thead>\n",
       "  <tbody>\n",
       "    <tr>\n",
       "      <th>0</th>\n",
       "      <td>adjoin_s.adjoins</td>\n",
       "      <td>/en/united_arab_emirates</td>\n",
       "      <td>/en/saudi_arabia</td>\n",
       "      <td>internet_users_percent_population.2006-01-01.rate</td>\n",
       "      <td>/en/united_arab_emirates</td>\n",
       "      <td>0.602160</td>\n",
       "    </tr>\n",
       "    <tr>\n",
       "      <th>1</th>\n",
       "      <td>adjoin_s.adjoins</td>\n",
       "      <td>/en/united_arab_emirates</td>\n",
       "      <td>/en/saudi_arabia</td>\n",
       "      <td>brain_drain_percent.2000-01-01.rate</td>\n",
       "      <td>/en/united_arab_emirates</td>\n",
       "      <td>0.014367</td>\n",
       "    </tr>\n",
       "    <tr>\n",
       "      <th>2</th>\n",
       "      <td>adjoin_s.adjoins</td>\n",
       "      <td>/en/united_arab_emirates</td>\n",
       "      <td>/en/saudi_arabia</td>\n",
       "      <td>gdp_real.2000-01-01.adjusted_value</td>\n",
       "      <td>/en/united_arab_emirates</td>\n",
       "      <td>0.020973</td>\n",
       "    </tr>\n",
       "    <tr>\n",
       "      <th>3</th>\n",
       "      <td>adjoin_s.adjoins</td>\n",
       "      <td>/en/united_arab_emirates</td>\n",
       "      <td>/en/saudi_arabia</td>\n",
       "      <td>gender_balance_members_of_parliament.2002-01-0...</td>\n",
       "      <td>/en/united_arab_emirates</td>\n",
       "      <td>0.033113</td>\n",
       "    </tr>\n",
       "    <tr>\n",
       "      <th>4</th>\n",
       "      <td>adjoin_s.adjoins</td>\n",
       "      <td>/en/united_arab_emirates</td>\n",
       "      <td>/en/saudi_arabia</td>\n",
       "      <td>diesel_price_liter.2002-01-01.amount</td>\n",
       "      <td>/en/united_arab_emirates</td>\n",
       "      <td>0.639344</td>\n",
       "    </tr>\n",
       "  </tbody>\n",
       "</table>\n",
       "</div>"
      ],
      "text/plain": [
       "           Relation                    Target           Relatum  \\\n",
       "0  adjoin_s.adjoins  /en/united_arab_emirates  /en/saudi_arabia   \n",
       "1  adjoin_s.adjoins  /en/united_arab_emirates  /en/saudi_arabia   \n",
       "2  adjoin_s.adjoins  /en/united_arab_emirates  /en/saudi_arabia   \n",
       "3  adjoin_s.adjoins  /en/united_arab_emirates  /en/saudi_arabia   \n",
       "4  adjoin_s.adjoins  /en/united_arab_emirates  /en/saudi_arabia   \n",
       "\n",
       "                                           Attribute  \\\n",
       "0  internet_users_percent_population.2006-01-01.rate   \n",
       "1                brain_drain_percent.2000-01-01.rate   \n",
       "2                 gdp_real.2000-01-01.adjusted_value   \n",
       "3  gender_balance_members_of_parliament.2002-01-0...   \n",
       "4               diesel_price_liter.2002-01-01.amount   \n",
       "\n",
       "                     Entity  Numeric Value  \n",
       "0  /en/united_arab_emirates       0.602160  \n",
       "1  /en/united_arab_emirates       0.014367  \n",
       "2  /en/united_arab_emirates       0.020973  \n",
       "3  /en/united_arab_emirates       0.033113  \n",
       "4  /en/united_arab_emirates       0.639344  "
      ]
     },
     "execution_count": 17,
     "metadata": {},
     "output_type": "execute_result"
    }
   ],
   "source": [
    "dataframe.head()"
   ]
  },
  {
   "cell_type": "code",
   "execution_count": 18,
   "metadata": {},
   "outputs": [],
   "source": [
    "categorical_columns = ['Relation', 'Target', 'Relatum']"
   ]
  },
  {
   "cell_type": "code",
   "execution_count": 19,
   "metadata": {},
   "outputs": [],
   "source": [
    "from scipy import sparse\n",
    "def prepare_data(file_path, encoder, scaler):\n",
    "    df = pd.read_csv(file_path)\n",
    "    df.fillna(0, inplace=True)\n",
    "    df[categorical_columns] = df[categorical_columns].astype(str)\n",
    "    \n",
    "    X_categorical = encoder.transform(df[categorical_columns])\n",
    "    X_numeric = scaler.transform(df[['Numeric Value']])\n",
    "\n",
    "    X_numeric_adjusted = X_numeric + abs(X_numeric.min()) + 1\n",
    "\n",
    "    X = sparse.hstack((X_categorical, sparse.csr_matrix(X_numeric_adjusted)))\n",
    "    y = df['Numeric Value'].astype(int)\n",
    "\n",
    "    return X, y"
   ]
  },
  {
   "cell_type": "code",
   "execution_count": 20,
   "metadata": {},
   "outputs": [],
   "source": [
    "from sklearn.preprocessing import OneHotEncoder, StandardScaler\n",
    "encoder = OneHotEncoder(sparse_output=True, handle_unknown='ignore')\n",
    "scaler = StandardScaler()\n"
   ]
  },
  {
   "cell_type": "code",
   "execution_count": 21,
   "metadata": {},
   "outputs": [],
   "source": [
    "# Eğitim seti\n",
    "df_train = pd.read_csv('./dataset/processed_train_combined.csv')\n",
    "df_train.fillna(0, inplace=True)\n",
    "df_train[categorical_columns] = df_train[categorical_columns].astype(str)\n",
    "X_train_categorical = encoder.fit_transform(df_train[categorical_columns])\n",
    "X_train_numeric = scaler.fit_transform(df_train[['Numeric Value']])"
   ]
  },
  {
   "cell_type": "code",
   "execution_count": 22,
   "metadata": {},
   "outputs": [],
   "source": [
    "# Negatif değerleri ayarlayın\n",
    "X_train_numeric += abs(X_train_numeric.min()) + 1"
   ]
  },
  {
   "cell_type": "code",
   "execution_count": 23,
   "metadata": {},
   "outputs": [],
   "source": [
    "X_train = sparse.hstack((X_train_categorical, sparse.csr_matrix(X_train_numeric)))\n",
    "y_train = df_train['Numeric Value'].astype(int)"
   ]
  },
  {
   "cell_type": "code",
   "execution_count": 24,
   "metadata": {},
   "outputs": [],
   "source": [
    "# Test ve doğrulama setleri\n",
    "X_test, y_test = prepare_data('./dataset/processed_test_combined.csv', encoder, scaler)\n",
    "X_val, y_val = prepare_data('./dataset/processed_validation_combined.csv', encoder, scaler)\n"
   ]
  },
  {
   "cell_type": "code",
   "execution_count": 25,
   "metadata": {},
   "outputs": [],
   "source": [
    "from sklearn.metrics import classification_report\n",
    "# Model değerlendirme fonksiyonu\n",
    "def evaluate_model(model, X_train, y_train, X_test, y_test, model_name):\n",
    "    model.fit(X_train, y_train)\n",
    "    y_pred = model.predict(X_test)\n",
    "    report = classification_report(y_test, y_pred, output_dict=True)\n",
    "    return {\n",
    "        'Model Name': model_name,\n",
    "        'Accuracy': report['accuracy'],\n",
    "        'Precision': report['macro avg']['precision'],\n",
    "        'Recall': report['macro avg']['recall'],\n",
    "        'F1-Score': report['macro avg']['f1-score']\n",
    "    }"
   ]
  },
  {
   "cell_type": "code",
   "execution_count": 26,
   "metadata": {},
   "outputs": [],
   "source": [
    "results = []"
   ]
  },
  {
   "cell_type": "code",
   "execution_count": 27,
   "metadata": {},
   "outputs": [],
   "source": [
    "for k in [3, 7, 11]:\n",
    "    results.append(evaluate_model(KNeighborsClassifier(n_neighbors=k), X_train, y_train, X_val, y_val, f\"KNN with K={k}\"))"
   ]
  },
  {
   "cell_type": "code",
   "execution_count": 28,
   "metadata": {},
   "outputs": [],
   "source": [
    "for layers in [(32,), (32, 32), (32, 32, 32)]:\n",
    "    results.append(evaluate_model(MLPClassifier(hidden_layer_sizes=layers, max_iter=1000), X_train, y_train, X_val, y_val, f\"MLP with layers {layers}\"))"
   ]
  },
  {
   "cell_type": "code",
   "execution_count": 29,
   "metadata": {},
   "outputs": [],
   "source": [
    "from sklearn.naive_bayes import MultinomialNB\n",
    "results.append(evaluate_model(MultinomialNB(), X_train, y_train, X_val, y_val, \"Naive Bayes\"))"
   ]
  },
  {
   "cell_type": "code",
   "execution_count": 30,
   "metadata": {},
   "outputs": [],
   "source": [
    "results_df = pd.DataFrame(results)"
   ]
  },
  {
   "cell_type": "code",
   "execution_count": 31,
   "metadata": {},
   "outputs": [],
   "source": [
    "table = {\n",
    "    'Estimators': results_df['Model Name'].tolist(),\n",
    "    'Accuracy': results_df['Accuracy'].tolist(),\n",
    "    'Precision': results_df['Precision'].tolist(),\n",
    "    'Recall': results_df['Recall'].tolist(),\n",
    "    'F1_Score': results_df['F1-Score'].tolist()\n",
    "}\n",
    "\n",
    "table_df = pd.DataFrame(table)"
   ]
  },
  {
   "cell_type": "code",
   "execution_count": 32,
   "metadata": {},
   "outputs": [
    {
     "name": "stdout",
     "output_type": "stream",
     "text": [
      "                     Estimators  Accuracy  Precision    Recall  F1_Score\n",
      "0                  KNN with K=3  0.972603   0.954585  0.977605  0.965262\n",
      "1                  KNN with K=7  0.967860   0.949498  0.970161  0.959151\n",
      "2                 KNN with K=11  0.963460   0.944640  0.963438  0.953471\n",
      "3         MLP with layers (32,)  0.944896   0.929050  0.927312  0.928176\n",
      "4      MLP with layers (32, 32)  0.949998   0.935536  0.934182  0.934856\n",
      "5  MLP with layers (32, 32, 32)  0.937888   0.922915  0.914057  0.918357\n",
      "6                   Naive Bayes  0.739345   0.633835  0.572950  0.575262\n"
     ]
    }
   ],
   "source": [
    "print(table_df)"
   ]
  }
 ],
 "metadata": {
  "kernelspec": {
   "display_name": "Python 3",
   "language": "python",
   "name": "python3"
  },
  "language_info": {
   "codemirror_mode": {
    "name": "ipython",
    "version": 3
   },
   "file_extension": ".py",
   "mimetype": "text/x-python",
   "name": "python",
   "nbconvert_exporter": "python",
   "pygments_lexer": "ipython3",
   "version": "3.11.5"
  }
 },
 "nbformat": 4,
 "nbformat_minor": 2
}
